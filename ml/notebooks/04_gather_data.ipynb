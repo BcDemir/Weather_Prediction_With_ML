{
 "cells": [
  {
   "cell_type": "markdown",
   "id": "2318e251",
   "metadata": {},
   "source": [
    "Get the real historical data for Toronto to use in predictions"
   ]
  },
  {
   "cell_type": "code",
   "execution_count": null,
   "id": "c5d0600e",
   "metadata": {
    "vscode": {
     "languageId": "plaintext"
    }
   },
   "outputs": [],
   "source": [
    "import requests\n",
    "\n",
    "with open('../../weather_API_secret.txt','r') as file:\n",
    "    API_key = file.read()\n",
    "    \n",
    "lat = ''    \n",
    "lon = ''\n",
    "start = '1577836800'  # Start date (unix time, UTC time zone), e.g. start=1369728000\n",
    "end = '\t1744344000'    # End date (unix time, UTC time zone), e.g. end=1369789200\n",
    "    \n",
    "# to be used to get live data\n",
    "url = 'https://history.openweathermap.org/data/2.5/history/city?lat={lat}&lon={lon}&type=hour&start={start}&end={end}&appid={API_key}'"
   ]
  }
 ],
 "metadata": {
  "language_info": {
   "name": "python"
  }
 },
 "nbformat": 4,
 "nbformat_minor": 5
}
