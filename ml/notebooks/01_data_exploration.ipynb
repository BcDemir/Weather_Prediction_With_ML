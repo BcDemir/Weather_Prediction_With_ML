{
 "cells": [
  {
   "cell_type": "code",
   "execution_count": 1,
   "id": "96d9d900",
   "metadata": {},
   "outputs": [
    {
     "name": "stdout",
     "output_type": "stream",
     "text": [
      "<class 'pandas.core.frame.DataFrame'>\n",
      "RangeIndex: 96453 entries, 0 to 96452\n",
      "Data columns (total 12 columns):\n",
      " #   Column                    Non-Null Count  Dtype  \n",
      "---  ------                    --------------  -----  \n",
      " 0   Formatted Date            96453 non-null  object \n",
      " 1   Summary                   96453 non-null  object \n",
      " 2   Precip Type               95936 non-null  object \n",
      " 3   Temperature (C)           96453 non-null  float64\n",
      " 4   Apparent Temperature (C)  96453 non-null  float64\n",
      " 5   Humidity                  96453 non-null  float64\n",
      " 6   Wind Speed (km/h)         96453 non-null  float64\n",
      " 7   Wind Bearing (degrees)    96453 non-null  float64\n",
      " 8   Visibility (km)           96453 non-null  float64\n",
      " 9   Loud Cover                96453 non-null  float64\n",
      " 10  Pressure (millibars)      96453 non-null  float64\n",
      " 11  Daily Summary             96453 non-null  object \n",
      "dtypes: float64(8), object(4)\n",
      "memory usage: 8.8+ MB\n",
      "None\n"
     ]
    }
   ],
   "source": [
    "import pandas as pd\n",
    "from sklearn.model_selection import train_test_split\n",
    "\n",
    "# Load data\n",
    "dummy_file_path = '../data/test_data.csv'\n",
    "dummy_data = pd.read_csv(dummy_file_path) \n",
    "\n",
    "print(dummy_data.info())"
   ]
  },
  {
   "cell_type": "code",
   "execution_count": null,
   "id": "bfd77ae9",
   "metadata": {},
   "outputs": [
    {
     "name": "stdout",
     "output_type": "stream",
     "text": [
      "|    | Formatted Date                | Summary       | Precip Type   |   Temperature (C) |   Apparent Temperature (C) |   Humidity |   Wind Speed (km/h) |   Wind Bearing (degrees) |   Visibility (km) |   Loud Cover |   Pressure (millibars) | Daily Summary                     |\n",
      "|---:|:------------------------------|:--------------|:--------------|------------------:|---------------------------:|-----------:|--------------------:|-------------------------:|------------------:|-------------:|-----------------------:|:----------------------------------|\n",
      "|  0 | 2006-04-01 00:00:00.000 +0200 | Partly Cloudy | rain          |           9.47222 |                    7.38889 |       0.89 |             14.1197 |                      251 |           15.8263 |            0 |                1015.13 | Partly cloudy throughout the day. |\n",
      "|  1 | 2006-04-01 01:00:00.000 +0200 | Partly Cloudy | rain          |           9.35556 |                    7.22778 |       0.86 |             14.2646 |                      259 |           15.8263 |            0 |                1015.63 | Partly cloudy throughout the day. |\n",
      "|  2 | 2006-04-01 02:00:00.000 +0200 | Mostly Cloudy | rain          |           9.37778 |                    9.37778 |       0.89 |              3.9284 |                      204 |           14.9569 |            0 |                1015.94 | Partly cloudy throughout the day. |\n",
      "|  3 | 2006-04-01 03:00:00.000 +0200 | Partly Cloudy | rain          |           8.28889 |                    5.94444 |       0.83 |             14.1036 |                      269 |           15.8263 |            0 |                1016.41 | Partly cloudy throughout the day. |\n",
      "|  4 | 2006-04-01 04:00:00.000 +0200 | Mostly Cloudy | rain          |           8.75556 |                    6.97778 |       0.83 |             11.0446 |                      259 |           15.8263 |            0 |                1016.51 | Partly cloudy throughout the day. |\n",
      "All the columns:\n",
      "Index(['Formatted Date', 'Summary', 'Precip Type', 'Temperature (C)',\n",
      "       'Apparent Temperature (C)', 'Humidity', 'Wind Speed (km/h)',\n",
      "       'Wind Bearing (degrees)', 'Visibility (km)', 'Loud Cover',\n",
      "       'Pressure (millibars)', 'Daily Summary'],\n",
      "      dtype='object')\n"
     ]
    }
   ],
   "source": [
    "print(dummy_data.head().to_markdown())\n",
    "\n",
    "print('\\nAll the columns:\\n')\n",
    "print(dummy_data.columns)"
   ]
  },
  {
   "cell_type": "markdown",
   "id": "ee04b7a9",
   "metadata": {},
   "source": [
    "It looks like the y value of the dataset is 'Temperature (C)' column. All other columns can be used as features."
   ]
  }
 ],
 "metadata": {
  "kernelspec": {
   "display_name": "Python 3",
   "language": "python",
   "name": "python3"
  },
  "language_info": {
   "codemirror_mode": {
    "name": "ipython",
    "version": 3
   },
   "file_extension": ".py",
   "mimetype": "text/x-python",
   "name": "python",
   "nbconvert_exporter": "python",
   "pygments_lexer": "ipython3",
   "version": "3.12.1"
  }
 },
 "nbformat": 4,
 "nbformat_minor": 5
}
