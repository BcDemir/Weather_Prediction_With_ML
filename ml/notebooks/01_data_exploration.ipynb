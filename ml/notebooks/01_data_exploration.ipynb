{
 "cells": [
  {
   "cell_type": "code",
   "execution_count": 6,
   "id": "96d9d900",
   "metadata": {},
   "outputs": [
    {
     "name": "stdout",
     "output_type": "stream",
     "text": [
      "<class 'pandas.core.frame.DataFrame'>\n",
      "RangeIndex: 96453 entries, 0 to 96452\n",
      "Data columns (total 12 columns):\n",
      " #   Column                    Non-Null Count  Dtype  \n",
      "---  ------                    --------------  -----  \n",
      " 0   Formatted Date            96453 non-null  object \n",
      " 1   Summary                   96453 non-null  object \n",
      " 2   Precip Type               95936 non-null  object \n",
      " 3   Temperature (C)           96453 non-null  float64\n",
      " 4   Apparent Temperature (C)  96453 non-null  float64\n",
      " 5   Humidity                  96453 non-null  float64\n",
      " 6   Wind Speed (km/h)         96453 non-null  float64\n",
      " 7   Wind Bearing (degrees)    96453 non-null  float64\n",
      " 8   Visibility (km)           96453 non-null  float64\n",
      " 9   Loud Cover                96453 non-null  float64\n",
      " 10  Pressure (millibars)      96453 non-null  float64\n",
      " 11  Daily Summary             96453 non-null  object \n",
      "dtypes: float64(8), object(4)\n",
      "memory usage: 8.8+ MB\n",
      "None\n"
     ]
    }
   ],
   "source": [
    "import pandas as pd\n",
    "from sklearn.model_selection import train_test_split\n",
    "\n",
    "# Load data\n",
    "dummy_file_path = '../data/test_data.csv'\n",
    "dummy_data = pd.read_csv(dummy_file_path) \n",
    "\n",
    "print(dummy_data.info())"
   ]
  },
  {
   "cell_type": "code",
   "execution_count": 7,
   "id": "bfd77ae9",
   "metadata": {},
   "outputs": [
    {
     "name": "stdout",
     "output_type": "stream",
     "text": [
      "|    | Formatted Date                | Summary       | Precip Type   |   Temperature (C) |   Apparent Temperature (C) |   Humidity |   Wind Speed (km/h) |   Wind Bearing (degrees) |   Visibility (km) |   Loud Cover |   Pressure (millibars) | Daily Summary                     |\n",
      "|---:|:------------------------------|:--------------|:--------------|------------------:|---------------------------:|-----------:|--------------------:|-------------------------:|------------------:|-------------:|-----------------------:|:----------------------------------|\n",
      "|  0 | 2006-04-01 00:00:00.000 +0200 | Partly Cloudy | rain          |           9.47222 |                    7.38889 |       0.89 |             14.1197 |                      251 |           15.8263 |            0 |                1015.13 | Partly cloudy throughout the day. |\n",
      "|  1 | 2006-04-01 01:00:00.000 +0200 | Partly Cloudy | rain          |           9.35556 |                    7.22778 |       0.86 |             14.2646 |                      259 |           15.8263 |            0 |                1015.63 | Partly cloudy throughout the day. |\n",
      "|  2 | 2006-04-01 02:00:00.000 +0200 | Mostly Cloudy | rain          |           9.37778 |                    9.37778 |       0.89 |              3.9284 |                      204 |           14.9569 |            0 |                1015.94 | Partly cloudy throughout the day. |\n",
      "|  3 | 2006-04-01 03:00:00.000 +0200 | Partly Cloudy | rain          |           8.28889 |                    5.94444 |       0.83 |             14.1036 |                      269 |           15.8263 |            0 |                1016.41 | Partly cloudy throughout the day. |\n",
      "|  4 | 2006-04-01 04:00:00.000 +0200 | Mostly Cloudy | rain          |           8.75556 |                    6.97778 |       0.83 |             11.0446 |                      259 |           15.8263 |            0 |                1016.51 | Partly cloudy throughout the day. |\n",
      "|  5 | 2006-04-01 05:00:00.000 +0200 | Partly Cloudy | rain          |           9.22222 |                    7.11111 |       0.85 |             13.9587 |                      258 |           14.9569 |            0 |                1016.66 | Partly cloudy throughout the day. |\n",
      "|  6 | 2006-04-01 06:00:00.000 +0200 | Partly Cloudy | rain          |           7.73333 |                    5.52222 |       0.95 |             12.3648 |                      259 |            9.982  |            0 |                1016.72 | Partly cloudy throughout the day. |\n",
      "|  7 | 2006-04-01 07:00:00.000 +0200 | Partly Cloudy | rain          |           8.77222 |                    6.52778 |       0.89 |             14.1519 |                      260 |            9.982  |            0 |                1016.84 | Partly cloudy throughout the day. |\n",
      "|  8 | 2006-04-01 08:00:00.000 +0200 | Partly Cloudy | rain          |          10.8222  |                   10.8222  |       0.82 |             11.3183 |                      259 |            9.982  |            0 |                1017.37 | Partly cloudy throughout the day. |\n",
      "|  9 | 2006-04-01 09:00:00.000 +0200 | Partly Cloudy | rain          |          13.7722  |                   13.7722  |       0.72 |             12.5258 |                      279 |            9.982  |            0 |                1017.22 | Partly cloudy throughout the day. |\n",
      "| 10 | 2006-04-01 10:00:00.000 +0200 | Partly Cloudy | rain          |          16.0167  |                   16.0167  |       0.67 |             17.5651 |                      290 |           11.2056 |            0 |                1017.42 | Partly cloudy throughout the day. |\n",
      "| 11 | 2006-04-01 11:00:00.000 +0200 | Partly Cloudy | rain          |          17.1444  |                   17.1444  |       0.54 |             19.7869 |                      316 |           11.4471 |            0 |                1017.74 | Partly cloudy throughout the day. |\n",
      "| 12 | 2006-04-01 12:00:00.000 +0200 | Partly Cloudy | rain          |          17.8     |                   17.8     |       0.55 |             21.9443 |                      281 |           11.27   |            0 |                1017.59 | Partly cloudy throughout the day. |\n",
      "| 13 | 2006-04-01 13:00:00.000 +0200 | Partly Cloudy | rain          |          17.3333  |                   17.3333  |       0.51 |             20.6885 |                      289 |           11.27   |            0 |                1017.48 | Partly cloudy throughout the day. |\n",
      "| 14 | 2006-04-01 14:00:00.000 +0200 | Partly Cloudy | rain          |          18.8778  |                   18.8778  |       0.47 |             15.3755 |                      262 |           11.4471 |            0 |                1017.17 | Partly cloudy throughout the day. |\n",
      "| 15 | 2006-04-01 15:00:00.000 +0200 | Partly Cloudy | rain          |          18.9111  |                   18.9111  |       0.46 |             10.4006 |                      288 |           11.27   |            0 |                1016.47 | Partly cloudy throughout the day. |\n",
      "| 16 | 2006-04-01 16:00:00.000 +0200 | Partly Cloudy | rain          |          15.3889  |                   15.3889  |       0.6  |             14.4095 |                      251 |           11.27   |            0 |                1016.15 | Partly cloudy throughout the day. |\n",
      "| 17 | 2006-04-01 17:00:00.000 +0200 | Mostly Cloudy | rain          |          15.55    |                   15.55    |       0.63 |             11.1573 |                      230 |           11.4471 |            0 |                1016.17 | Partly cloudy throughout the day. |\n",
      "| 18 | 2006-04-01 18:00:00.000 +0200 | Mostly Cloudy | rain          |          14.2556  |                   14.2556  |       0.69 |              8.5169 |                      163 |           11.2056 |            0 |                1015.82 | Partly cloudy throughout the day. |\n",
      "| 19 | 2006-04-01 19:00:00.000 +0200 | Mostly Cloudy | rain          |          13.1444  |                   13.1444  |       0.7  |              7.6314 |                      139 |           11.2056 |            0 |                1015.83 | Partly cloudy throughout the day. |\n",
      "\n",
      "All the columns:\n",
      "\n",
      "Index(['Formatted Date', 'Summary', 'Precip Type', 'Temperature (C)',\n",
      "       'Apparent Temperature (C)', 'Humidity', 'Wind Speed (km/h)',\n",
      "       'Wind Bearing (degrees)', 'Visibility (km)', 'Loud Cover',\n",
      "       'Pressure (millibars)', 'Daily Summary'],\n",
      "      dtype='object')\n"
     ]
    }
   ],
   "source": [
    "print(dummy_data.head(20).to_markdown())\n",
    "\n",
    "print('\\nAll the columns:\\n')\n",
    "print(dummy_data.columns)"
   ]
  },
  {
   "cell_type": "markdown",
   "id": "ee04b7a9",
   "metadata": {},
   "source": [
    "It looks like the y value of the dataset is 'Temperature (C)' column. All other columns can be used as features."
   ]
  },
  {
   "cell_type": "code",
   "execution_count": 8,
   "id": "fdec450e",
   "metadata": {},
   "outputs": [
    {
     "name": "stdout",
     "output_type": "stream",
     "text": [
      "|    | Formatted Date            | Summary       | Precip Type   |   Temperature (C) |   Apparent Temperature (C) |   Humidity |   Wind Speed (km/h) |   Wind Bearing (degrees) |   Visibility (km) |   Loud Cover |   Pressure (millibars) | Daily Summary                     |\n",
      "|---:|:--------------------------|:--------------|:--------------|------------------:|---------------------------:|-----------:|--------------------:|-------------------------:|------------------:|-------------:|-----------------------:|:----------------------------------|\n",
      "|  0 | 2006-04-01 00:00:00+02:00 | Partly Cloudy | rain          |           9.47222 |                    7.38889 |       0.89 |             14.1197 |                      251 |           15.8263 |            0 |                1015.13 | Partly cloudy throughout the day. |\n",
      "|  1 | 2006-04-01 01:00:00+02:00 | Partly Cloudy | rain          |           9.35556 |                    7.22778 |       0.86 |             14.2646 |                      259 |           15.8263 |            0 |                1015.63 | Partly cloudy throughout the day. |\n",
      "|  2 | 2006-04-01 02:00:00+02:00 | Mostly Cloudy | rain          |           9.37778 |                    9.37778 |       0.89 |              3.9284 |                      204 |           14.9569 |            0 |                1015.94 | Partly cloudy throughout the day. |\n",
      "|  3 | 2006-04-01 03:00:00+02:00 | Partly Cloudy | rain          |           8.28889 |                    5.94444 |       0.83 |             14.1036 |                      269 |           15.8263 |            0 |                1016.41 | Partly cloudy throughout the day. |\n",
      "|  4 | 2006-04-01 04:00:00+02:00 | Mostly Cloudy | rain          |           8.75556 |                    6.97778 |       0.83 |             11.0446 |                      259 |           15.8263 |            0 |                1016.51 | Partly cloudy throughout the day. |\n",
      "<class 'pandas.core.frame.DataFrame'>\n",
      "RangeIndex: 96453 entries, 0 to 96452\n",
      "Data columns (total 12 columns):\n",
      " #   Column                    Non-Null Count  Dtype  \n",
      "---  ------                    --------------  -----  \n",
      " 0   Formatted Date            96453 non-null  object \n",
      " 1   Summary                   96453 non-null  object \n",
      " 2   Precip Type               95936 non-null  object \n",
      " 3   Temperature (C)           96453 non-null  float64\n",
      " 4   Apparent Temperature (C)  96453 non-null  float64\n",
      " 5   Humidity                  96453 non-null  float64\n",
      " 6   Wind Speed (km/h)         96453 non-null  float64\n",
      " 7   Wind Bearing (degrees)    96453 non-null  float64\n",
      " 8   Visibility (km)           96453 non-null  float64\n",
      " 9   Loud Cover                96453 non-null  float64\n",
      " 10  Pressure (millibars)      96453 non-null  float64\n",
      " 11  Daily Summary             96453 non-null  object \n",
      "dtypes: float64(8), object(4)\n",
      "memory usage: 8.8+ MB\n",
      "None\n"
     ]
    },
    {
     "name": "stderr",
     "output_type": "stream",
     "text": [
      "C:\\Users\\burak\\AppData\\Local\\Temp\\ipykernel_30584\\3485334440.py:1: FutureWarning: In a future version of pandas, parsing datetimes with mixed time zones will raise an error unless `utc=True`. Please specify `utc=True` to opt in to the new behaviour and silence this warning. To create a `Series` with mixed offsets and `object` dtype, please use `apply` and `datetime.datetime.strptime`\n",
      "  dummy_data['Formatted Date'] = pd.to_datetime(dummy_data['Formatted Date'], format='%Y-%m-%d %H:%M:%S.%f %z', errors='raise')\n"
     ]
    }
   ],
   "source": [
    "dummy_data['Formatted Date'] = pd.to_datetime(dummy_data['Formatted Date'], format='%Y-%m-%d %H:%M:%S.%f %z', errors='raise')\n",
    "# print(dummy_data['Formatted Date'].unique())\n",
    "\n",
    "print(dummy_data.head().to_markdown())\n",
    "\n",
    "print(dummy_data.info())"
   ]
  },
  {
   "cell_type": "code",
   "execution_count": 9,
   "id": "217c0d9c",
   "metadata": {},
   "outputs": [
    {
     "name": "stdout",
     "output_type": "stream",
     "text": [
      "<class 'pandas._libs.tslibs.timestamps.Timestamp'>\n",
      "2006-12-01 01:00:00+01:00\n",
      "2006-08-09 23:00:00+02:00\n"
     ]
    }
   ],
   "source": [
    "print(type(dummy_data['Formatted Date'].iloc[90000]))\n",
    "print((dummy_data['Formatted Date'].iloc[1465]))\n",
    "print((dummy_data['Formatted Date'].iloc[1463]))\n",
    "\n",
    "dummy_data['Formatted Date'] = pd.to_datetime(dummy_data['Formatted Date'], format='%Y-%m-%d %H:%M:%S.%f%z', errors='raise', utc=True)"
   ]
  },
  {
   "cell_type": "markdown",
   "id": "ec350641",
   "metadata": {},
   "source": [
    "Create three new columns for 'day', 'month' and 'year' as int"
   ]
  },
  {
   "cell_type": "code",
   "execution_count": 10,
   "id": "31a499d2",
   "metadata": {},
   "outputs": [
    {
     "name": "stdout",
     "output_type": "stream",
     "text": [
      "|    | Formatted Date            | Summary       | Precip Type   |   Temperature (C) |   Apparent Temperature (C) |   Humidity |   Wind Speed (km/h) |   Wind Bearing (degrees) |   Visibility (km) |   Loud Cover |   Pressure (millibars) | Daily Summary                     |   day |   month |   year |   hour |\n",
      "|---:|:--------------------------|:--------------|:--------------|------------------:|---------------------------:|-----------:|--------------------:|-------------------------:|------------------:|-------------:|-----------------------:|:----------------------------------|------:|--------:|-------:|-------:|\n",
      "|  0 | 2006-03-31 22:00:00+00:00 | Partly Cloudy | rain          |           9.47222 |                    7.38889 |       0.89 |             14.1197 |                      251 |           15.8263 |            0 |                1015.13 | Partly cloudy throughout the day. |    31 |       3 |   2006 |     22 |\n",
      "|  1 | 2006-03-31 23:00:00+00:00 | Partly Cloudy | rain          |           9.35556 |                    7.22778 |       0.86 |             14.2646 |                      259 |           15.8263 |            0 |                1015.63 | Partly cloudy throughout the day. |    31 |       3 |   2006 |     23 |\n",
      "|  2 | 2006-04-01 00:00:00+00:00 | Mostly Cloudy | rain          |           9.37778 |                    9.37778 |       0.89 |              3.9284 |                      204 |           14.9569 |            0 |                1015.94 | Partly cloudy throughout the day. |     1 |       4 |   2006 |      0 |\n",
      "|  3 | 2006-04-01 01:00:00+00:00 | Partly Cloudy | rain          |           8.28889 |                    5.94444 |       0.83 |             14.1036 |                      269 |           15.8263 |            0 |                1016.41 | Partly cloudy throughout the day. |     1 |       4 |   2006 |      1 |\n",
      "|  4 | 2006-04-01 02:00:00+00:00 | Mostly Cloudy | rain          |           8.75556 |                    6.97778 |       0.83 |             11.0446 |                      259 |           15.8263 |            0 |                1016.51 | Partly cloudy throughout the day. |     1 |       4 |   2006 |      2 |\n"
     ]
    }
   ],
   "source": [
    "# Create new columns\n",
    "dummy_data['day'] = dummy_data['Formatted Date'].dt.day\n",
    "dummy_data['month'] = dummy_data['Formatted Date'].dt.month\n",
    "dummy_data['year'] = dummy_data['Formatted Date'].dt.year\n",
    "dummy_data['hour'] = dummy_data['Formatted Date'].dt.hour\n",
    "\n",
    "print(dummy_data.head().to_markdown())"
   ]
  },
  {
   "cell_type": "markdown",
   "id": "22773cf8",
   "metadata": {},
   "source": [
    "Copy clean data to csv"
   ]
  },
  {
   "cell_type": "code",
   "execution_count": 11,
   "id": "8b61c201",
   "metadata": {},
   "outputs": [
    {
     "name": "stdout",
     "output_type": "stream",
     "text": [
      "<class 'pandas.core.frame.DataFrame'>\n",
      "RangeIndex: 96453 entries, 0 to 96452\n",
      "Data columns (total 16 columns):\n",
      " #   Column                    Non-Null Count  Dtype              \n",
      "---  ------                    --------------  -----              \n",
      " 0   Formatted Date            96453 non-null  datetime64[ns, UTC]\n",
      " 1   Summary                   96453 non-null  object             \n",
      " 2   Precip Type               95936 non-null  object             \n",
      " 3   Temperature (C)           96453 non-null  float64            \n",
      " 4   Apparent Temperature (C)  96453 non-null  float64            \n",
      " 5   Humidity                  96453 non-null  float64            \n",
      " 6   Wind Speed (km/h)         96453 non-null  float64            \n",
      " 7   Wind Bearing (degrees)    96453 non-null  float64            \n",
      " 8   Visibility (km)           96453 non-null  float64            \n",
      " 9   Loud Cover                96453 non-null  float64            \n",
      " 10  Pressure (millibars)      96453 non-null  float64            \n",
      " 11  Daily Summary             96453 non-null  object             \n",
      " 12  day                       96453 non-null  int32              \n",
      " 13  month                     96453 non-null  int32              \n",
      " 14  year                      96453 non-null  int32              \n",
      " 15  hour                      96453 non-null  int32              \n",
      "dtypes: datetime64[ns, UTC](1), float64(8), int32(4), object(3)\n",
      "memory usage: 10.3+ MB\n",
      "None\n"
     ]
    }
   ],
   "source": [
    "print(dummy_data.info())"
   ]
  },
  {
   "cell_type": "code",
   "execution_count": 12,
   "id": "f76dd6bd",
   "metadata": {},
   "outputs": [],
   "source": [
    "dummy_data.to_csv('../data/clean_dummy_data.csv')"
   ]
  }
 ],
 "metadata": {
  "kernelspec": {
   "display_name": "env",
   "language": "python",
   "name": "python3"
  },
  "language_info": {
   "codemirror_mode": {
    "name": "ipython",
    "version": 3
   },
   "file_extension": ".py",
   "mimetype": "text/x-python",
   "name": "python",
   "nbconvert_exporter": "python",
   "pygments_lexer": "ipython3",
   "version": "3.12.1"
  }
 },
 "nbformat": 4,
 "nbformat_minor": 5
}
