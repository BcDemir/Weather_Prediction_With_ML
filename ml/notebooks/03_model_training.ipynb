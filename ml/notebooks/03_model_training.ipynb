{
 "cells": [
  {
   "cell_type": "code",
   "execution_count": 4,
   "id": "7956d2e6",
   "metadata": {},
   "outputs": [],
   "source": [
    "import pandas as pd\n",
    "from sklearn.model_selection import train_test_split\n",
    "\n",
    "# Load data\n",
    "dummy_file_path = '../data/clean_dummy_data.csv'\n",
    "dummy_data = pd.read_csv(dummy_file_path) \n",
    "\n",
    "# Choose target and features\n",
    "y = dummy_data['Temperature (C)']\n",
    "dummy_features = ['Humidity', 'Wind Speed (km/h)',\n",
    "       'Wind Bearing (degrees)', 'Visibility (km)', 'Loud Cover',\n",
    "       'Pressure (millibars)', 'day', 'month', 'year']\n",
    "X = dummy_data[dummy_features]\n",
    "\n",
    "\n",
    "# split data into training and validation data, for both features and target\n",
    "# The split is based on a random number generator. Supplying a numeric value to\n",
    "# the random_state argument guarantees we get the same split every time we\n",
    "# run this script.\n",
    "train_X, val_X, train_y, val_y = train_test_split(X, y,random_state = 0)"
   ]
  },
  {
   "cell_type": "markdown",
   "id": "89a33005",
   "metadata": {},
   "source": [
    "Train the model using RandomForest.\n",
    "\n",
    "The column Formatted Date should be converted to float to proceed! (done)"
   ]
  },
  {
   "cell_type": "code",
   "execution_count": 26,
   "id": "46c92c5b",
   "metadata": {},
   "outputs": [
    {
     "name": "stdout",
     "output_type": "stream",
     "text": [
      "1.358999976654103\n"
     ]
    }
   ],
   "source": [
    "from sklearn.ensemble import RandomForestRegressor\n",
    "from sklearn.metrics import mean_absolute_error\n",
    "\n",
    "forest_model = RandomForestRegressor(random_state=1)\n",
    "forest_model.fit(train_X, train_y)\n",
    "weather_preds = forest_model.predict(val_X)\n",
    "print(mean_absolute_error(val_y, weather_preds))"
   ]
  },
  {
   "cell_type": "markdown",
   "id": "d0a2cc0a",
   "metadata": {},
   "source": [
    "The data can be used for training and validation. MAE = 1.358999976"
   ]
  },
  {
   "cell_type": "code",
   "execution_count": null,
   "id": "11ac241a",
   "metadata": {},
   "outputs": [
    {
     "name": "stdout",
     "output_type": "stream",
     "text": [
      "24114\n",
      "72339\n"
     ]
    }
   ],
   "source": [
    "# Debug\n",
    "print(len(weather_preds))\n",
    "print(len(train_y))"
   ]
  },
  {
   "cell_type": "markdown",
   "id": "c8420329",
   "metadata": {},
   "source": [
    "Find the best leaf node\n",
    "- 50000 gave the best result but there is not much difference between 10000 and 50000\n",
    "- Default value gets better results"
   ]
  },
  {
   "cell_type": "code",
   "execution_count": 24,
   "id": "633a6af6",
   "metadata": {},
   "outputs": [
    {
     "name": "stdout",
     "output_type": "stream",
     "text": [
      "Max leaf nodes: 50000  \t\t Mean Absolute Error:  1.789830\n",
      "Max leaf nodes: 150000  \t\t Mean Absolute Error:  1.789384\n",
      "Max leaf nodes: 400000  \t\t Mean Absolute Error:  1.789384\n"
     ]
    }
   ],
   "source": [
    "from sklearn.metrics import mean_absolute_error\n",
    "from sklearn.tree import DecisionTreeRegressor\n",
    "\n",
    "def get_mae(max_leaf_nodes, train_X, val_X, train_y, val_y):\n",
    "    forest_model = DecisionTreeRegressor(max_leaf_nodes=max_leaf_nodes, random_state=0)\n",
    "    forest_model.fit(train_X, train_y)\n",
    "    preds_val = forest_model.predict(val_X)\n",
    "    mae = mean_absolute_error(val_y, preds_val)\n",
    "    return(mae)\n",
    "\n",
    "\n",
    "# compare MAE with differing values of max_leaf_nodes\n",
    "for max_leaf_nodes in [50000,150000,400000]:\n",
    "    my_mae = get_mae(max_leaf_nodes, train_X, val_X, train_y, val_y)\n",
    "    print(\"Max leaf nodes: %d  \\t\\t Mean Absolute Error:  %f\" %(max_leaf_nodes, my_mae))"
   ]
  }
 ],
 "metadata": {
  "kernelspec": {
   "display_name": "Python 3",
   "language": "python",
   "name": "python3"
  },
  "language_info": {
   "codemirror_mode": {
    "name": "ipython",
    "version": 3
   },
   "file_extension": ".py",
   "mimetype": "text/x-python",
   "name": "python",
   "nbconvert_exporter": "python",
   "pygments_lexer": "ipython3",
   "version": "3.12.1"
  }
 },
 "nbformat": 4,
 "nbformat_minor": 5
}
