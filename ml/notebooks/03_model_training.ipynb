{
 "cells": [
  {
   "cell_type": "code",
   "execution_count": 1,
   "id": "7956d2e6",
   "metadata": {},
   "outputs": [],
   "source": [
    "import pandas as pd\n",
    "from sklearn.model_selection import train_test_split\n",
    "\n",
    "# Load data\n",
    "dummy_file_path = '../data/clean_dummy_data.csv'\n",
    "dummy_data = pd.read_csv(dummy_file_path) \n",
    "\n",
    "# Choose target and features\n",
    "y = dummy_data['Temperature (C)']\n",
    "dummy_features = ['Humidity', 'Wind Speed (km/h)',\n",
    "       'Wind Bearing (degrees)', 'Visibility (km)', 'Loud Cover',\n",
    "       'Pressure (millibars)', 'day', 'month', 'year']\n",
    "X = dummy_data[dummy_features]\n",
    "\n",
    "\n",
    "# split data into training and validation data, for both features and target\n",
    "# The split is based on a random number generator. Supplying a numeric value to\n",
    "# the random_state argument guarantees we get the same split every time we\n",
    "# run this script.\n",
    "train_X, val_X, train_y, val_y = train_test_split(X, y,random_state = 0)"
   ]
  },
  {
   "cell_type": "markdown",
   "id": "89a33005",
   "metadata": {},
   "source": [
    "Train the model using RandomForest.\n",
    "\n",
    "The column Formatted date should be converted to float to proceed!"
   ]
  },
  {
   "cell_type": "code",
   "execution_count": 2,
   "id": "46c92c5b",
   "metadata": {},
   "outputs": [
    {
     "name": "stdout",
     "output_type": "stream",
     "text": [
      "1.358999976654103\n"
     ]
    }
   ],
   "source": [
    "from sklearn.ensemble import RandomForestRegressor\n",
    "from sklearn.metrics import mean_absolute_error\n",
    "\n",
    "forest_model = RandomForestRegressor(random_state=1)\n",
    "forest_model.fit(train_X, train_y)\n",
    "melb_preds = forest_model.predict(val_X)\n",
    "print(mean_absolute_error(val_y, melb_preds))"
   ]
  },
  {
   "cell_type": "markdown",
   "id": "d0a2cc0a",
   "metadata": {},
   "source": [
    "The data can be used for training and validation. MAE = 1.358999976"
   ]
  },
  {
   "cell_type": "code",
   "execution_count": null,
   "id": "11ac241a",
   "metadata": {},
   "outputs": [],
   "source": []
  }
 ],
 "metadata": {
  "kernelspec": {
   "display_name": "Python 3",
   "language": "python",
   "name": "python3"
  },
  "language_info": {
   "codemirror_mode": {
    "name": "ipython",
    "version": 3
   },
   "file_extension": ".py",
   "mimetype": "text/x-python",
   "name": "python",
   "nbconvert_exporter": "python",
   "pygments_lexer": "ipython3",
   "version": "3.12.1"
  }
 },
 "nbformat": 4,
 "nbformat_minor": 5
}
